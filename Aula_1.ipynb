{
  "nbformat": 4,
  "nbformat_minor": 0,
  "metadata": {
    "colab": {
      "name": "Aula_1.ipynb",
      "provenance": [],
      "collapsed_sections": [
        "5w22piuE8qwA",
        "91pgyfLQ8vwF",
        "cnuiCA4VgvL1",
        "IsGu46gILOlH",
        "LCEAPI_mJqzh",
        "tGmem7iQVGT5",
        "1eY-30iiMJuH",
        "VjCyHA9xNPxG",
        "KAA0t1TsTWdS",
        "xAq13eLBTlSh",
        "LZuHvawSUNWB",
        "9VHDQ0kFdAcI",
        "eQErJ-hBdRc1",
        "R2Q7U24ufOON",
        "IR_0py34r9Ha",
        "qLL9uhbJp_J6",
        "oRHaYH8hqiGd",
        "g1HO_CCcff1l"
      ],
      "authorship_tag": "ABX9TyO3Vp/euMWqmAZzeYvZnA/X",
      "include_colab_link": true
    },
    "kernelspec": {
      "name": "python3",
      "display_name": "Python 3"
    },
    "language_info": {
      "name": "python"
    }
  },
  "cells": [
    {
      "cell_type": "markdown",
      "metadata": {
        "id": "view-in-github",
        "colab_type": "text"
      },
      "source": [
        "<a href=\"https://colab.research.google.com/github/eduardo-correa/imersao_dados_alura/blob/master/Aula_1.ipynb\" target=\"_parent\"><img src=\"https://colab.research.google.com/assets/colab-badge.svg\" alt=\"Open In Colab\"/></a>"
      ]
    },
    {
      "cell_type": "markdown",
      "metadata": {
        "id": "hiX4I-gg7XzG"
      },
      "source": [
        "# Imersão Dados - **Alura**\n",
        "Primeira aula da 3ª Imersão de Dados Alura - 03/05/2021\n",
        "\n",
        "Github da imersão [aqui](https://github.com/alura-cursos/imersaodados3)."
      ]
    },
    {
      "cell_type": "markdown",
      "metadata": {
        "id": "5w22piuE8qwA"
      },
      "source": [
        "## Importação de Bibliotecas"
      ]
    },
    {
      "cell_type": "code",
      "metadata": {
        "id": "1Hmlsomt58nF"
      },
      "source": [
        "import pandas as pd\n",
        "import matplotlib.pyplot as plt\n",
        "%matplotlib inline"
      ],
      "execution_count": null,
      "outputs": []
    },
    {
      "cell_type": "markdown",
      "metadata": {
        "id": "91pgyfLQ8vwF"
      },
      "source": [
        "## Importação dos Dados"
      ]
    },
    {
      "cell_type": "code",
      "metadata": {
        "id": "5mupEyh06Ukb"
      },
      "source": [
        "url_dados = 'https://github.com/alura-cursos/imersaodados3/blob/main/dados/dados_experimentos.zip?raw=true'\n",
        "dados = pd.read_csv(url_dados, compression = 'zip')\n",
        "dados.head()"
      ],
      "execution_count": null,
      "outputs": []
    },
    {
      "cell_type": "markdown",
      "metadata": {
        "id": "6HthrmIjHV4L"
      },
      "source": [
        "##Análise exploratória dos dados"
      ]
    },
    {
      "cell_type": "markdown",
      "metadata": {
        "id": "cnuiCA4VgvL1"
      },
      "source": [
        "####Tamanho do dataframe"
      ]
    },
    {
      "cell_type": "code",
      "metadata": {
        "id": "f5hDKeVp6y15"
      },
      "source": [
        "dados.shape"
      ],
      "execution_count": null,
      "outputs": []
    },
    {
      "cell_type": "markdown",
      "metadata": {
        "id": "IsGu46gILOlH"
      },
      "source": [
        "####A coluna \"tratamento\""
      ]
    },
    {
      "cell_type": "markdown",
      "metadata": {
        "id": "o-7mUH-GR4qG"
      },
      "source": [
        "Se refere aos dois grupos: com_droga (que fez uso da droga) e com_controle (que não fez uso da droga)"
      ]
    },
    {
      "cell_type": "code",
      "metadata": {
        "id": "NxqZYFjyIRA5"
      },
      "source": [
        "dados['tratamento'].unique()"
      ],
      "execution_count": null,
      "outputs": []
    },
    {
      "cell_type": "code",
      "metadata": {
        "id": "hghGtPc7IahA"
      },
      "source": [
        "dados['tratamento'].value_counts()"
      ],
      "execution_count": null,
      "outputs": []
    },
    {
      "cell_type": "code",
      "metadata": {
        "id": "Gb7MqXChW3yv"
      },
      "source": [
        "dados['tratamento'].value_counts(normalize = True)"
      ],
      "execution_count": null,
      "outputs": []
    },
    {
      "cell_type": "code",
      "metadata": {
        "id": "IeljCjF2W6NE"
      },
      "source": [
        "dados['tratamento'].value_counts().plot.pie()"
      ],
      "execution_count": null,
      "outputs": []
    },
    {
      "cell_type": "markdown",
      "metadata": {
        "id": "LCEAPI_mJqzh"
      },
      "source": [
        "####A coluna \"tempo\""
      ]
    },
    {
      "cell_type": "markdown",
      "metadata": {
        "id": "pXonZCkmSJnp"
      },
      "source": [
        "Se refere à quantidade horas passadas da aplicação do medicamento."
      ]
    },
    {
      "cell_type": "code",
      "metadata": {
        "id": "d4JFhCZyJ1m5"
      },
      "source": [
        "dados['tempo'].unique()"
      ],
      "execution_count": null,
      "outputs": []
    },
    {
      "cell_type": "code",
      "metadata": {
        "id": "zx2_W_GAJ9bq"
      },
      "source": [
        "dados['tempo'].value_counts()"
      ],
      "execution_count": null,
      "outputs": []
    },
    {
      "cell_type": "code",
      "metadata": {
        "id": "RrGnctvdXz19"
      },
      "source": [
        "dados['tempo'].value_counts(normalize = True)"
      ],
      "execution_count": null,
      "outputs": []
    },
    {
      "cell_type": "code",
      "metadata": {
        "id": "r3y54mNXX3oS"
      },
      "source": [
        "dados['tempo'].value_counts().plot.bar()"
      ],
      "execution_count": null,
      "outputs": []
    },
    {
      "cell_type": "markdown",
      "metadata": {
        "id": "tGmem7iQVGT5"
      },
      "source": [
        "####A coluna \"dose\""
      ]
    },
    {
      "cell_type": "code",
      "metadata": {
        "id": "zvgUNjCNKBQD"
      },
      "source": [
        "dados['dose'].unique()"
      ],
      "execution_count": null,
      "outputs": []
    },
    {
      "cell_type": "code",
      "metadata": {
        "id": "gWYO75-cVMBm"
      },
      "source": [
        "dados['dose'].value_counts()"
      ],
      "execution_count": null,
      "outputs": []
    },
    {
      "cell_type": "code",
      "metadata": {
        "id": "MGHbENIYX98l"
      },
      "source": [
        "dados['dose'].value_counts(normalize = True)"
      ],
      "execution_count": null,
      "outputs": []
    },
    {
      "cell_type": "code",
      "metadata": {
        "id": "g7BqmZa_YBSl"
      },
      "source": [
        "dados['dose'].value_counts().plot.bar()"
      ],
      "execution_count": null,
      "outputs": []
    },
    {
      "cell_type": "markdown",
      "metadata": {
        "id": "1eY-30iiMJuH"
      },
      "source": [
        "####A coluna \"droga\""
      ]
    },
    {
      "cell_type": "markdown",
      "metadata": {
        "id": "-SFq3yQXSPgp"
      },
      "source": [
        "Traz uma identificação anonimizada da droga utilizada"
      ]
    },
    {
      "cell_type": "code",
      "metadata": {
        "id": "ThUAr4KoLyft"
      },
      "source": [
        "dados['droga'].unique()"
      ],
      "execution_count": null,
      "outputs": []
    },
    {
      "cell_type": "code",
      "metadata": {
        "id": "MQzj9NBgL6IY"
      },
      "source": [
        "dados['droga'].value_counts()"
      ],
      "execution_count": null,
      "outputs": []
    },
    {
      "cell_type": "markdown",
      "metadata": {
        "id": "VjCyHA9xNPxG"
      },
      "source": [
        "####A coluna \"g-X\"\n"
      ]
    },
    {
      "cell_type": "markdown",
      "metadata": {
        "id": "s8OSCwQmSZo5"
      },
      "source": [
        " Onde X é um número, representa uma expressão de um gene."
      ]
    },
    {
      "cell_type": "code",
      "metadata": {
        "id": "3Ds13r9eQ4hB"
      },
      "source": [
        ""
      ],
      "execution_count": null,
      "outputs": []
    },
    {
      "cell_type": "markdown",
      "metadata": {
        "id": "fWxIYTO7TB3Z"
      },
      "source": [
        "##Desafios"
      ]
    },
    {
      "cell_type": "markdown",
      "metadata": {
        "id": "3l6nvQFITIDI"
      },
      "source": [
        "###Desafio 01: Investigar por que a classe tratamento é tão desbalanceada?"
      ]
    },
    {
      "cell_type": "markdown",
      "metadata": {
        "id": "Yh-yXGW8whVW"
      },
      "source": [
        "Como visto na análise exploratória de dados, cerca de 92% dos experimentos utilizaram drogas, enquanto que cerca de 8% não as empregou, visto ser o grupo controle."
      ]
    },
    {
      "cell_type": "code",
      "metadata": {
        "id": "hMD8AkagTBbN"
      },
      "source": [
        "dados['tratamento'].value_counts(normalize = True).mul(100).round(1).astype(str) + '%'"
      ],
      "execution_count": null,
      "outputs": []
    },
    {
      "cell_type": "markdown",
      "metadata": {
        "id": "m72-E87Uyl5H"
      },
      "source": [
        "Foram utilizadas diversas drogas diferentes no grupo \"com_droga\""
      ]
    },
    {
      "cell_type": "code",
      "metadata": {
        "id": "JQeUwJIyy0vh"
      },
      "source": [
        "dados.query('tratamento == \"com_droga\"')['droga'].nunique()"
      ],
      "execution_count": null,
      "outputs": []
    },
    {
      "cell_type": "markdown",
      "metadata": {
        "id": "AAzgsN_l1I0x"
      },
      "source": [
        "E apenas uma 1 no grupo \"com_controle\", aqui cabe uma suposição que se trate de um placebo."
      ]
    },
    {
      "cell_type": "code",
      "metadata": {
        "id": "jK313lmp1c4H"
      },
      "source": [
        "dados.query('tratamento == \"com_controle\"')['droga'].nunique()"
      ],
      "execution_count": null,
      "outputs": []
    },
    {
      "cell_type": "markdown",
      "metadata": {
        "id": "wAr7a4PhCo83"
      },
      "source": [
        "Verificamos qual droga foi utilizada no grupo controle"
      ]
    },
    {
      "cell_type": "code",
      "metadata": {
        "id": "cxtIlyBe3neO"
      },
      "source": [
        "dados.query('tratamento == \"com_controle\"')['droga'].value_counts()"
      ],
      "execution_count": null,
      "outputs": []
    },
    {
      "cell_type": "markdown",
      "metadata": {
        "id": "UHQBS_bMDU9D"
      },
      "source": [
        "Verificamos se esta droga também foi utilizada no grupo \"com_droga\""
      ]
    },
    {
      "cell_type": "code",
      "metadata": {
        "id": "jm4nbdQoDQpn"
      },
      "source": [
        "dados.query('tratamento == \"com_droga\" & droga == \"cacb2b860\"')['droga'].value_counts()"
      ],
      "execution_count": null,
      "outputs": []
    },
    {
      "cell_type": "markdown",
      "metadata": {
        "id": "0RGnHgnkEskZ"
      },
      "source": [
        "Como esta droga (*cacb2b860*), foi utilizada apenas com o grupo controle, podemos compará-la com as demais drogas."
      ]
    },
    {
      "cell_type": "code",
      "metadata": {
        "id": "LMI7p6I4EtX1"
      },
      "source": [
        "dados['droga'].value_counts().sort_values().tail(7).plot.bar()"
      ],
      "execution_count": null,
      "outputs": []
    },
    {
      "cell_type": "markdown",
      "metadata": {
        "id": "ZZ3XVcBbFqhv"
      },
      "source": [
        "Deste modo, como a quantidade de uso do grupo controle é muito superior ao uso das demais drogas, percebe-se que este grupo foi utilizado como comparação com mais, senão todos, outros grupos de drogas aplicadas. Mas isso necessita de mais informações sobre os procedimentos adotados para se ter uma afirmação mais definitiva."
      ]
    },
    {
      "cell_type": "markdown",
      "metadata": {
        "id": "KAA0t1TsTWdS"
      },
      "source": [
        "###Desafio 02: Plotar as 5 últimas linhas da tabela"
      ]
    },
    {
      "cell_type": "code",
      "metadata": {
        "id": "Mlji_JreThrj"
      },
      "source": [
        "dados.tail()"
      ],
      "execution_count": null,
      "outputs": []
    },
    {
      "cell_type": "markdown",
      "metadata": {
        "id": "xAq13eLBTlSh"
      },
      "source": [
        "###Desafio 03: Proporção da classe tratamento"
      ]
    },
    {
      "cell_type": "code",
      "metadata": {
        "id": "aoY4ggrZTttZ"
      },
      "source": [
        "dados['tratamento'].value_counts(normalize = True).mul(100).round(1).astype(str) + '%'"
      ],
      "execution_count": null,
      "outputs": []
    },
    {
      "cell_type": "markdown",
      "metadata": {
        "id": "LZuHvawSUNWB"
      },
      "source": [
        "###Desafio 04: Quantos tipos de drogas forma investigados"
      ]
    },
    {
      "cell_type": "code",
      "metadata": {
        "id": "KlWp-QenUVsp"
      },
      "source": [
        "dados.query('tratamento == \"com_droga\"')['droga'].nunique()"
      ],
      "execution_count": null,
      "outputs": []
    },
    {
      "cell_type": "markdown",
      "metadata": {
        "id": "9VHDQ0kFdAcI"
      },
      "source": [
        "###Desafio 05: Procurar na documentação o método \"query\" (pandas)"
      ]
    },
    {
      "cell_type": "markdown",
      "metadata": {
        "id": "HSU6TWb_-1yN"
      },
      "source": [
        "O método foi estudado e aplicado nos desafios.\n",
        "\n",
        "A documentação pode ser encontrada [aqui](https://pandas.pydata.org/pandas-docs/stable/reference/api/pandas.DataFrame.query.html)."
      ]
    },
    {
      "cell_type": "markdown",
      "metadata": {
        "id": "eQErJ-hBdRc1"
      },
      "source": [
        "###Desafio 06: Renomear as colunas tirando o hífen"
      ]
    },
    {
      "cell_type": "code",
      "metadata": {
        "id": "3yw4pRccfDux"
      },
      "source": [
        "dados.columns = dados.columns.str.replace('-', '')\n",
        "dados.columns"
      ],
      "execution_count": null,
      "outputs": []
    },
    {
      "cell_type": "markdown",
      "metadata": {
        "id": "R2Q7U24ufOON"
      },
      "source": [
        "###Desafio 07: Deixar os gráficos bonitos (Matplotlib.pyplot)"
      ]
    },
    {
      "cell_type": "markdown",
      "metadata": {
        "id": "IR_0py34r9Ha"
      },
      "source": [
        "####Tratamento"
      ]
    },
    {
      "cell_type": "code",
      "metadata": {
        "id": "PBhphfT5r8xH"
      },
      "source": [
        "plt.style.use('seaborn-pastel')\n",
        "dados['tratamento'].value_counts().sort_values().plot.bar()\n",
        "plt.title('Tratamento aplicado')\n",
        "plt.xlabel('Grupo de tratamento')\n",
        "plt.ylabel('Experimentos')"
      ],
      "execution_count": null,
      "outputs": []
    },
    {
      "cell_type": "markdown",
      "metadata": {
        "id": "qLL9uhbJp_J6"
      },
      "source": [
        "####Tempo"
      ]
    },
    {
      "cell_type": "code",
      "metadata": {
        "id": "PIObI5pSfZdq"
      },
      "source": [
        "plt.style.use('seaborn-pastel')\n",
        "dados['tempo'].value_counts().sort_values().plot.bar()\n",
        "plt.title('Quantidade de horas passadas após a aplicação da droga')\n",
        "plt.xlabel('Tempo (em horas)')\n",
        "plt.ylabel('Quantidade de experimentos')"
      ],
      "execution_count": null,
      "outputs": []
    },
    {
      "cell_type": "markdown",
      "metadata": {
        "id": "oRHaYH8hqiGd"
      },
      "source": [
        "####Dose"
      ]
    },
    {
      "cell_type": "code",
      "metadata": {
        "id": "C_e1hnyYqb2O"
      },
      "source": [
        "plt.style.use('seaborn-pastel')\n",
        "dados['dose'].value_counts().sort_values().plot.bar()\n",
        "plt.title('Quantidade de doses aplicadas')\n",
        "plt.xlabel('Tipo da dose')\n",
        "plt.ylabel('Aplicações')"
      ],
      "execution_count": null,
      "outputs": []
    },
    {
      "cell_type": "markdown",
      "metadata": {
        "id": "g1HO_CCcff1l"
      },
      "source": [
        "###Desafio 08: Resumo do que foi aprendido com os dados"
      ]
    },
    {
      "cell_type": "markdown",
      "metadata": {
        "id": "MpFEJttmumTR"
      },
      "source": [
        "Existem 2 grupos para os tratamentos, os que receberam drogas e o grupo controle. Foram aplicadas 3.288 tipos de drogas e 1 tipo no grupo controle, provavelmente placebo. Aproximadamente 92% dos experimentos recebeu algum tipo de droga e 8% não."
      ]
    }
  ]
}